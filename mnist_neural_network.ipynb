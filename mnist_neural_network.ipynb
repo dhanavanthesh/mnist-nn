{
 "cells": [
  {
   "cell_type": "markdown",
   "metadata": {},
   "source": [
    "# MNIST Neural Network\n",
    "A simple neural network implementation for MNIST digit recognition"
   ]
  },
  {
   "cell_type": "code",
   "execution_count": null,
   "metadata": {},
   "outputs": [
    {
     "name": "stdout",
     "output_type": "stream",
     "text": [
      "n\n"
     ]
    }
   ],
   "source": [
    "print(\"neural networks\")"
   ]
  },
  {
   "cell_type": "code",
   "execution_count": 5,
   "metadata": {},
   "outputs": [],
   "source": [
    "import numpy as np\n",
    "import matplotlib.pyplot as plt\n",
    "from urllib.request import urlretrieve\n",
    "import gzip\n",
    "import os\n",
    "\n",
    "np.random.seed(42)"
   ]
  },
  {
   "cell_type": "code",
   "execution_count": 6,
   "metadata": {},
   "outputs": [
    {
     "name": "stdout",
     "output_type": "stream",
     "text": [
      "Requirement already satisfied: scikit-learn in c:\\users\\dhana\\anaconda3\\lib\\site-packages (1.5.1)\n",
      "Requirement already satisfied: numpy>=1.19.5 in c:\\users\\dhana\\anaconda3\\lib\\site-packages (from scikit-learn) (1.26.4)\n",
      "Requirement already satisfied: scipy>=1.6.0 in c:\\users\\dhana\\anaconda3\\lib\\site-packages (from scikit-learn) (1.13.1)\n",
      "Requirement already satisfied: joblib>=1.2.0 in c:\\users\\dhana\\anaconda3\\lib\\site-packages (from scikit-learn) (1.4.2)\n",
      "Requirement already satisfied: threadpoolctl>=3.1.0 in c:\\users\\dhana\\anaconda3\\lib\\site-packages (from scikit-learn) (3.5.0)\n"
     ]
    },
    {
     "name": "stderr",
     "output_type": "stream",
     "text": [
      "\n",
      "[notice] A new release of pip is available: 25.0.1 -> 25.2\n",
      "[notice] To update, run: python.exe -m pip install --upgrade pip\n"
     ]
    }
   ],
   "source": [
    "!pip install scikit-learn"
   ]
  },
  {
   "cell_type": "markdown",
   "metadata": {},
   "source": [
    "## Download and Load MNIST Dataset"
   ]
  },
  {
   "cell_type": "code",
   "execution_count": 12,
   "metadata": {},
   "outputs": [
    {
     "name": "stdout",
     "output_type": "stream",
     "text": [
      "Downloading MNIST dataset from Kaggle...\n",
      "Dataset URL: https://www.kaggle.com/datasets/hojjatk/mnist-dataset\n",
      "Download complete!\n",
      "Training images shape: (60000, 28, 28)\n",
      "Training labels shape: (60000,)\n",
      "Test images shape: (10000, 28, 28)\n",
      "Test labels shape: (10000,)\n",
      "Download complete!\n",
      "Training images shape: (60000, 28, 28)\n",
      "Training labels shape: (60000,)\n",
      "Test images shape: (10000, 28, 28)\n",
      "Test labels shape: (10000,)\n"
     ]
    }
   ],
   "source": [
    "import kaggle\n",
    "from kaggle.api.kaggle_api_extended import KaggleApi\n",
    "import zipfile\n",
    "\n",
    "def download_mnist_kaggle():\n",
    "    \"\"\"Download MNIST dataset from Kaggle\"\"\"\n",
    "    try:\n",
    "        # Initialize Kaggle API\n",
    "        api = KaggleApi()\n",
    "        api.authenticate()\n",
    "        \n",
    "        # Create mnist_data directory\n",
    "        if not os.path.exists('mnist_data'):\n",
    "            os.makedirs('mnist_data')\n",
    "            \n",
    "        # Download the dataset\n",
    "        print('Downloading MNIST dataset from Kaggle...')\n",
    "        api.dataset_download_files('hojjatk/mnist-dataset', path='mnist_data', unzip=True)\n",
    "        print('Download complete!')\n",
    "        \n",
    "        return True\n",
    "    except Exception as e:\n",
    "        print(f\"Kaggle download failed: {e}\")\n",
    "        return False\n",
    "\n",
    "def load_mnist_images_uncompressed(filename):\n",
    "    \"\"\"Load MNIST images from uncompressed file\"\"\"\n",
    "    with open(filename, 'rb') as f:\n",
    "        data = f.read()\n",
    "        # Skip header (16 bytes)\n",
    "        images = np.frombuffer(data[16:], dtype=np.uint8)\n",
    "        images = images.reshape(-1, 28, 28)\n",
    "    return images\n",
    "\n",
    "def load_mnist_labels_uncompressed(filename):\n",
    "    \"\"\"Load MNIST labels from uncompressed file\"\"\"\n",
    "    with open(filename, 'rb') as f:\n",
    "        data = f.read()\n",
    "        # Skip header (8 bytes)\n",
    "        labels = np.frombuffer(data[8:], dtype=np.uint8)\n",
    "    return labels\n",
    "\n",
    "# Try downloading from Kaggle\n",
    "if download_mnist_kaggle():\n",
    "    # Check which files exist and use the correct ones\n",
    "    train_images_file = None\n",
    "    train_labels_file = None\n",
    "    test_images_file = None\n",
    "    test_labels_file = None\n",
    "    \n",
    "    # Check for different file formats\n",
    "    possible_train_images = [\n",
    "        'mnist_data/train-images.idx3-ubyte',\n",
    "        'mnist_data/train-images-idx3-ubyte/train-images-idx3-ubyte'\n",
    "    ]\n",
    "    possible_train_labels = [\n",
    "        'mnist_data/train-labels.idx1-ubyte', \n",
    "        'mnist_data/train-labels-idx1-ubyte/train-labels-idx1-ubyte'\n",
    "    ]\n",
    "    possible_test_images = [\n",
    "        'mnist_data/t10k-images.idx3-ubyte',\n",
    "        'mnist_data/t10k-images-idx3-ubyte/t10k-images-idx3-ubyte'\n",
    "    ]\n",
    "    possible_test_labels = [\n",
    "        'mnist_data/t10k-labels.idx1-ubyte',\n",
    "        'mnist_data/t10k-labels-idx1-ubyte/t10k-labels-idx1-ubyte'\n",
    "    ]\n",
    "    \n",
    "    # Find existing files\n",
    "    for f in possible_train_images:\n",
    "        if os.path.exists(f):\n",
    "            train_images_file = f\n",
    "            break\n",
    "            \n",
    "    for f in possible_train_labels:\n",
    "        if os.path.exists(f):\n",
    "            train_labels_file = f\n",
    "            break\n",
    "            \n",
    "    for f in possible_test_images:\n",
    "        if os.path.exists(f):\n",
    "            test_images_file = f\n",
    "            break\n",
    "            \n",
    "    for f in possible_test_labels:\n",
    "        if os.path.exists(f):\n",
    "            test_labels_file = f\n",
    "            break\n",
    "    \n",
    "    if all([train_images_file, train_labels_file, test_images_file, test_labels_file]):\n",
    "        # Load training data\n",
    "        X_train_raw = load_mnist_images_uncompressed(train_images_file)\n",
    "        Y_train_raw = load_mnist_labels_uncompressed(train_labels_file)\n",
    "        \n",
    "        # Load test data  \n",
    "        X_test_raw = load_mnist_images_uncompressed(test_images_file)\n",
    "        Y_test_raw = load_mnist_labels_uncompressed(test_labels_file)\n",
    "        \n",
    "        print(f'Training images shape: {X_train_raw.shape}')\n",
    "        print(f'Training labels shape: {Y_train_raw.shape}')\n",
    "        print(f'Test images shape: {X_test_raw.shape}')\n",
    "        print(f'Test labels shape: {Y_test_raw.shape}')\n",
    "    else:\n",
    "        print(\"Could not find all required MNIST files\")\n",
    "        print(f\"Found: train_images={train_images_file}, train_labels={train_labels_file}\")\n",
    "        print(f\"Found: test_images={test_images_file}, test_labels={test_labels_file}\")\n",
    "else:\n",
    "    print(\"Please download MNIST files manually and place them in mnist_data folder\")"
   ]
  },
  {
   "cell_type": "code",
   "execution_count": null,
   "metadata": {},
   "outputs": [],
   "source": [
    "# Install required packages\n",
    "!pip install kaggle python-dotenv\n",
    "\n",
    "import os\n",
    "import json\n",
    "from dotenv import load_dotenv\n",
    "\n",
    "# Load environment variables from .env file\n",
    "load_dotenv()\n",
    "\n",
    "# Get Kaggle credentials from environment variables\n",
    "kaggle_username = os.getenv('KAGGLE_USERNAME')\n",
    "kaggle_key = os.getenv('KAGGLE_KEY')\n",
    "\n",
    "if not kaggle_username or not kaggle_key:\n",
    "    print(\"Please set KAGGLE_USERNAME and KAGGLE_KEY environment variables\")\n",
    "    print(\"You can create a .env file with:\")\n",
    "    print(\"KAGGLE_USERNAME=your_username\")\n",
    "    print(\"KAGGLE_KEY=your_api_key\")\n",
    "else:\n",
    "    # Set up Kaggle API credentials\n",
    "    kaggle_json = {\n",
    "        \"username\": kaggle_username,\n",
    "        \"key\": kaggle_key\n",
    "    }\n",
    "    \n",
    "    # Create .kaggle directory\n",
    "    kaggle_dir = os.path.expanduser('~/.kaggle')\n",
    "    os.makedirs(kaggle_dir, exist_ok=True)\n",
    "    \n",
    "    # Write credentials file\n",
    "    with open(os.path.join(kaggle_dir, 'kaggle.json'), 'w') as f:\n",
    "        json.dump(kaggle_json, f)\n",
    "    \n",
    "    # Set proper permissions\n",
    "    os.chmod(os.path.join(kaggle_dir, 'kaggle.json'), 0o600)\n",
    "    \n",
    "    print('Kaggle credentials configured successfully from environment variables.')"
   ]
  },
  {
   "cell_type": "markdown",
   "metadata": {},
   "source": [
    "### Manual MNIST Data Download Instructions\n",
    "\n",
    "If you encounter a 404 error or download failure, please manually download the following files from the official MNIST site:\n",
    "\n",
    "- [train-images-idx3-ubyte.gz](http://yann.lecun.com/exdb/mnist/train-images-idx3-ubyte.gz)\n",
    "- [train-labels-idx1-ubyte.gz](http://yann.lecun.com/exdb/mnist/train-labels-idx1-ubyte.gz)\n",
    "- [t10k-images-idx3-ubyte.gz](http://yann.lecun.com/exdb/mnist/t10k-images-idx3-ubyte.gz)\n",
    "- [t10k-labels-idx1-ubyte.gz](http://yann.lecun.com/exdb/mnist/t10k-labels-idx1-ubyte.gz)\n",
    "\n",
    "Place all four files in the `mnist_data` folder in your project directory.\n",
    "\n",
    "After placing the files, re-run the notebook cells to continue."
   ]
  },
  {
   "cell_type": "markdown",
   "metadata": {},
   "source": [
    "## Data Preprocessing"
   ]
  },
  {
   "cell_type": "code",
   "execution_count": 14,
   "metadata": {},
   "outputs": [
    {
     "name": "stdout",
     "output_type": "stream",
     "text": [
      "Preprocessed training data shape: (784, 60000)\n",
      "Preprocessed training labels shape: (10, 60000)\n"
     ]
    },
    {
     "data": {
      "image/png": "[encoded data removed]",
      "text/plain": [
       "<Figure size 1000x400 with 10 Axes>"
      ]
     },
     "metadata": {},
     "output_type": "display_data"
    }
   ],
   "source": [
    "def preprocess_data(X, Y):\n",
    "    \"\"\"Preprocess the data for neural network training\"\"\"\n",
    "    # Reshape images to vectors and normalize\n",
    "    X = X.reshape(X.shape[0], -1).T  # Shape: (784, num_samples)\n",
    "    X = X / 255.0  # Normalize to [0, 1]\n",
    "    \n",
    "    # One-hot encode labels\n",
    "    Y_onehot = np.zeros((10, Y.shape[0]))\n",
    "    for i, label in enumerate(Y):\n",
    "        Y_onehot[label, i] = 1\n",
    "    \n",
    "    return X, Y_onehot\n",
    "\n",
    "# Preprocess data\n",
    "X_train, Y_train_onehot = preprocess_data(X_train_raw, Y_train_raw)\n",
    "X_test, Y_test_onehot = preprocess_data(X_test_raw, Y_test_raw)\n",
    "Y_train = Y_train_raw\n",
    "Y_test = Y_test_raw\n",
    "\n",
    "print(f'Preprocessed training data shape: {X_train.shape}')\n",
    "print(f'Preprocessed training labels shape: {Y_train_onehot.shape}')\n",
    "\n",
    "# Display some sample images\n",
    "fig, axes = plt.subplots(2, 5, figsize=(10, 4))\n",
    "for i, ax in enumerate(axes.flat):\n",
    "    ax.imshow(X_train_raw[i], cmap='gray')\n",
    "    ax.set_title(f'Label: {Y_train_raw[i]}')\n",
    "    ax.axis('off')\n",
    "plt.tight_layout()\n",
    "plt.show()"
   ]
  },
  {
   "cell_type": "markdown",
   "metadata": {},
   "source": [
    "## Neural Network Functions"
   ]
  },
  {
   "cell_type": "code",
   "execution_count": 15,
   "metadata": {},
   "outputs": [],
   "source": [
    "def init_params():\n",
    "    \"\"\"Initialize neural network parameters\"\"\"\n",
    "    W1 = np.random.rand(10, 784) - 0.5\n",
    "    b1 = np.random.rand(10, 1) - 0.5\n",
    "    W2 = np.random.rand(10, 10) - 0.5\n",
    "    b2 = np.random.rand(10, 1) - 0.5\n",
    "    return W1, b1, W2, b2\n",
    "\n",
    "def ReLU(Z):\n",
    "    \"\"\"ReLU activation function\"\"\"\n",
    "    return np.maximum(Z, 0)\n",
    "\n",
    "def softmax(Z):\n",
    "    \"\"\"Softmax activation function\"\"\"\n",
    "    A = np.exp(Z - np.max(Z, axis=0, keepdims=True))\n",
    "    return A / np.sum(A, axis=0, keepdims=True)\n",
    "\n",
    "def forward_prop(W1, b1, W2, b2, X):\n",
    "    \"\"\"Forward propagation\"\"\"\n",
    "    Z1 = W1.dot(X) + b1\n",
    "    A1 = ReLU(Z1)\n",
    "    Z2 = W2.dot(A1) + b2\n",
    "    A2 = softmax(Z2)\n",
    "    return Z1, A1, Z2, A2\n",
    "\n",
    "def ReLU_deriv(Z):\n",
    "    \"\"\"Derivative of ReLU function\"\"\"\n",
    "    return Z > 0\n",
    "\n",
    "def one_hot(Y):\n",
    "    \"\"\"Convert labels to one-hot encoding\"\"\"\n",
    "    one_hot_Y = np.zeros((Y.size, Y.max() + 1))\n",
    "    one_hot_Y[np.arange(Y.size), Y] = 1\n",
    "    one_hot_Y = one_hot_Y.T\n",
    "    return one_hot_Y\n",
    "\n",
    "def backward_prop(Z1, A1, Z2, A2, W1, W2, X, Y):\n",
    "    \"\"\"Backward propagation\"\"\"\n",
    "    m = Y.size\n",
    "    one_hot_Y = one_hot(Y)\n",
    "    dZ2 = A2 - one_hot_Y\n",
    "    dW2 = 1 / m * dZ2.dot(A1.T)\n",
    "    db2 = 1 / m * np.sum(dZ2)\n",
    "    dZ1 = W2.T.dot(dZ2) * ReLU_deriv(Z1)\n",
    "    dW1 = 1 / m * dZ1.dot(X.T)\n",
    "    db1 = 1 / m * np.sum(dZ1)\n",
    "    return dW1, db1, dW2, db2\n",
    "\n",
    "def update_params(W1, b1, W2, b2, dW1, db1, dW2, db2, alpha):\n",
    "    \"\"\"Update parameters using gradient descent\"\"\"\n",
    "    W1 = W1 - alpha * dW1\n",
    "    b1 = b1 - alpha * db1    \n",
    "    W2 = W2 - alpha * dW2  \n",
    "    b2 = b2 - alpha * db2    \n",
    "    return W1, b1, W2, b2"
   ]
  },
  {
   "cell_type": "markdown",
   "metadata": {},
   "source": [
    "## Training Functions"
   ]
  },
  {
   "cell_type": "code",
   "execution_count": 16,
   "metadata": {},
   "outputs": [],
   "source": [
    "def get_predictions(A2):\n",
    "    \"\"\"Get predictions from output layer\"\"\"\n",
    "    return np.argmax(A2, 0)\n",
    "\n",
    "def get_accuracy(predictions, Y):\n",
    "    \"\"\"Calculate accuracy\"\"\"\n",
    "    return np.sum(predictions == Y) / Y.size\n",
    "\n",
    "def gradient_descent(X, Y, alpha, iterations):\n",
    "    \"\"\"Train the neural network using gradient descent\"\"\"\n",
    "    W1, b1, W2, b2 = init_params()\n",
    "    \n",
    "    for i in range(iterations):\n",
    "        Z1, A1, Z2, A2 = forward_prop(W1, b1, W2, b2, X)\n",
    "        dW1, db1, dW2, db2 = backward_prop(Z1, A1, Z2, A2, W1, W2, X, Y)\n",
    "        W1, b1, W2, b2 = update_params(W1, b1, W2, b2, dW1, db1, dW2, db2, alpha)\n",
    "        \n",
    "        if i % 10 == 0:\n",
    "            predictions = get_predictions(A2)\n",
    "            accuracy = get_accuracy(predictions, Y)\n",
    "            print(f\"Iteration {i}: Accuracy = {accuracy:.4f}\")\n",
    "    \n",
    "    return W1, b1, W2, b2"
   ]
  },
  {
   "cell_type": "markdown",
   "metadata": {},
   "source": [
    "## Train the Neural Network"
   ]
  },
  {
   "cell_type": "code",
   "execution_count": 17,
   "metadata": {},
   "outputs": [
    {
     "name": "stdout",
     "output_type": "stream",
     "text": [
      "Training neural network...\n",
      "Iteration 0: Accuracy = 0.1575\n",
      "Iteration 10: Accuracy = 0.1920\n",
      "Iteration 20: Accuracy = 0.2522\n",
      "Iteration 30: Accuracy = 0.3070\n",
      "Iteration 40: Accuracy = 0.3558\n",
      "Iteration 50: Accuracy = 0.3988\n",
      "Iteration 60: Accuracy = 0.4389\n",
      "Iteration 70: Accuracy = 0.4781\n",
      "Iteration 80: Accuracy = 0.5150\n",
      "Iteration 90: Accuracy = 0.5472\n",
      "Iteration 100: Accuracy = 0.5754\n",
      "Iteration 110: Accuracy = 0.5996\n",
      "Iteration 120: Accuracy = 0.6202\n",
      "Iteration 130: Accuracy = 0.6401\n",
      "Iteration 140: Accuracy = 0.6564\n",
      "Iteration 150: Accuracy = 0.6716\n",
      "Iteration 160: Accuracy = 0.6833\n",
      "Iteration 170: Accuracy = 0.6935\n",
      "Iteration 180: Accuracy = 0.7034\n",
      "Iteration 190: Accuracy = 0.7121\n",
      "Iteration 200: Accuracy = 0.7204\n",
      "Iteration 210: Accuracy = 0.7277\n",
      "Iteration 220: Accuracy = 0.7343\n",
      "Iteration 230: Accuracy = 0.7409\n",
      "Iteration 240: Accuracy = 0.7466\n",
      "Iteration 250: Accuracy = 0.7520\n",
      "Iteration 260: Accuracy = 0.7562\n",
      "Iteration 270: Accuracy = 0.7606\n",
      "Iteration 280: Accuracy = 0.7653\n",
      "Iteration 290: Accuracy = 0.7697\n",
      "Iteration 300: Accuracy = 0.7739\n",
      "Iteration 310: Accuracy = 0.7775\n",
      "Iteration 320: Accuracy = 0.7814\n",
      "Iteration 330: Accuracy = 0.7850\n",
      "Iteration 340: Accuracy = 0.7885\n",
      "Iteration 350: Accuracy = 0.7921\n",
      "Iteration 360: Accuracy = 0.7942\n",
      "Iteration 370: Accuracy = 0.7974\n",
      "Iteration 380: Accuracy = 0.8003\n",
      "Iteration 390: Accuracy = 0.8031\n",
      "Iteration 400: Accuracy = 0.8060\n",
      "Iteration 410: Accuracy = 0.8081\n",
      "Iteration 420: Accuracy = 0.8108\n",
      "Iteration 430: Accuracy = 0.8134\n",
      "Iteration 440: Accuracy = 0.8157\n",
      "Iteration 450: Accuracy = 0.8178\n",
      "Iteration 460: Accuracy = 0.8199\n",
      "Iteration 470: Accuracy = 0.8220\n",
      "Iteration 480: Accuracy = 0.8241\n",
      "Iteration 490: Accuracy = 0.8260\n",
      "Training complete!\n"
     ]
    }
   ],
   "source": [
    "# Train the model\n",
    "print(\"Training neural network...\")\n",
    "W1, b1, W2, b2 = gradient_descent(X_train, Y_train, 0.10, 500)\n",
    "print(\"Training complete!\")"
   ]
  },
  {
   "cell_type": "markdown",
   "metadata": {},
   "source": [
    "## Prediction and Visualization Functions"
   ]
  },
  {
   "cell_type": "code",
   "execution_count": 18,
   "metadata": {},
   "outputs": [
    {
     "name": "stdout",
     "output_type": "stream",
     "text": [
      "Testing predictions on training samples:\n",
      "Prediction: 3\n",
      "Label: 5\n"
     ]
    },
    {
     "data": {
      "image/png": "[encoded data removed]",
      "text/plain": [
       "<Figure size 640x480 with 1 Axes>"
      ]
     },
     "metadata": {},
     "output_type": "display_data"
    },
    {
     "name": "stdout",
     "output_type": "stream",
     "text": [
      "Prediction: 0\n",
      "Label: 0\n"
     ]
    },
    {
     "data": {
      "image/png": "[encoded data removed]",
      "text/plain": [
       "<Figure size 640x480 with 1 Axes>"
      ]
     },
     "metadata": {},
     "output_type": "display_data"
    },
    {
     "name": "stdout",
     "output_type": "stream",
     "text": [
      "Prediction: 4\n",
      "Label: 4\n"
     ]
    },
    {
     "data": {
      "image/png": "[encoded data removed]",
      "text/plain": [
       "<Figure size 640x480 with 1 Axes>"
      ]
     },
     "metadata": {},
     "output_type": "display_data"
    },
    {
     "name": "stdout",
     "output_type": "stream",
     "text": [
      "Prediction: 1\n",
      "Label: 1\n"
     ]
    },
    {
     "data": {
      "image/png": "[encoded data removed]",
      "text/plain": [
       "<Figure size 640x480 with 1 Axes>"
      ]
     },
     "metadata": {},
     "output_type": "display_data"
    }
   ],
   "source": [
    "def make_predictions(X, W1, b1, W2, b2):\n",
    "    \"\"\"Make predictions on new data\"\"\"\n",
    "    _, _, _, A2 = forward_prop(W1, b1, W2, b2, X)\n",
    "    predictions = get_predictions(A2)\n",
    "    return predictions\n",
    "\n",
    "def test_prediction(index, W1, b1, W2, b2):\n",
    "    \"\"\"Test prediction on a single image and display it\"\"\"\n",
    "    current_image = X_train[:, index, None]\n",
    "    prediction = make_predictions(X_train[:, index, None], W1, b1, W2, b2)\n",
    "    label = Y_train[index]\n",
    "    \n",
    "    print(f\"Prediction: {prediction[0]}\")\n",
    "    print(f\"Label: {label}\")\n",
    "    \n",
    "    current_image = current_image.reshape((28, 28)) * 255\n",
    "    plt.gray()\n",
    "    plt.imshow(current_image, interpolation='nearest')\n",
    "    plt.title(f'Prediction: {prediction[0]}, Actual: {label}')\n",
    "    plt.show()\n",
    "\n",
    "# Test predictions on some samples\n",
    "print(\"Testing predictions on training samples:\")\n",
    "test_prediction(0, W1, b1, W2, b2)\n",
    "test_prediction(1, W1, b1, W2, b2)\n",
    "test_prediction(2, W1, b1, W2, b2)\n",
    "test_prediction(3, W1, b1, W2, b2)"
   ]
  },
  {
   "cell_type": "markdown",
   "metadata": {},
   "source": [
    "## Evaluate on Test Set"
   ]
  },
  {
   "cell_type": "code",
   "execution_count": 24,
   "metadata": {},
   "outputs": [
    {
     "name": "stdout",
     "output_type": "stream",
     "text": [
      "Test Accuracy: 0.8340\n"
     ]
    },
    {
     "data": {
      "image/png": "[encoded data removed]",
      "text/plain": [
       "<Figure size 1200x600 with 10 Axes>"
      ]
     },
     "metadata": {},
     "output_type": "display_data"
    }
   ],
   "source": [
    "# Evaluate on test set\n",
    "test_predictions = make_predictions(X_test, W1, b1, W2, b2)\n",
    "test_accuracy = get_accuracy(test_predictions, Y_test)\n",
    "print(f\"Test Accuracy: {test_accuracy:.4f}\")\n",
    "\n",
    "# Show some test predictions\n",
    "fig, axes = plt.subplots(2, 5, figsize=(12, 6))\n",
    "for i, ax in enumerate(axes.flat):\n",
    "    idx = np.random.randint(0, X_test.shape[1])\n",
    "    image = X_test[:, idx].reshape(28, 28)\n",
    "    prediction = make_predictions(X_test[:, idx, None], W1, b1, W2, b2)[0]\n",
    "    actual = Y_test[idx]\n",
    "    \n",
    "    ax.imshow(image, cmap='gray')\n",
    "    color = 'green' if prediction == actual else 'red'\n",
    "    ax.set_title(f'Pred: {prediction}, Act: {actual}', color=color)\n",
    "    ax.axis('off')\n",
    "\n",
    "plt.tight_layout()\n",
    "plt.show()"
   ]
  },
  {
   "cell_type": "markdown",
   "source": "## Confusion Matrix Analysis",
   "metadata": {}
  },
  {
   "cell_type": "code",
   "source": "# Visualize learning rate schedules and training progress\nfig, ((ax1, ax2), (ax3, ax4)) = plt.subplots(2, 2, figsize=(12, 8))\n\n# Plot learning rate schedules\niterations = np.arange(0, len(lr_hist_exp)) * 10\nax1.plot(iterations, lr_hist_exp, 'b-', label='Exponential', linewidth=2)\nax1.plot(iterations, lr_hist_step, 'r-', label='Step', linewidth=2)\nax1.plot(iterations, lr_hist_cos, 'g-', label='Cosine', linewidth=2)\nax1.set_xlabel('Iteration')\nax1.set_ylabel('Learning Rate')\nax1.set_title('Learning Rate Schedules')\nax1.legend()\nax1.grid(True, alpha=0.3)\n\n# Plot accuracy progress\nax2.plot(iterations, acc_hist_exp, 'b-', label='Exponential', linewidth=2)\nax2.plot(iterations, acc_hist_step, 'r-', label='Step', linewidth=2)\nax2.plot(iterations, acc_hist_cos, 'g-', label='Cosine', linewidth=2)\nax2.set_xlabel('Iteration')\nax2.set_ylabel('Training Accuracy')\nax2.set_title('Training Progress Comparison')\nax2.legend()\nax2.grid(True, alpha=0.3)\n\n# Test final accuracies\nmodels = [\n    (W1_exp, b1_exp, W2_exp, b2_exp, 'Exponential'),\n    (W1_step, b1_step, W2_step, b2_step, 'Step'),\n    (W1_cos, b1_cos, W2_cos, b2_cos, 'Cosine')\n]\n\ntest_accuracies = []\nfor W1, b1, W2, b2, name in models:\n    test_pred = make_predictions(X_test, W1, b1, W2, b2)\n    test_acc = get_accuracy(test_pred, Y_test)\n    test_accuracies.append(test_acc)\n    print(f\"{name} - Test Accuracy: {test_acc:.4f}\")\n\n# Bar plot of test accuracies\nnames = ['Exponential', 'Step', 'Cosine']\nax3.bar(names, test_accuracies, color=['blue', 'red', 'green'], alpha=0.7)\nax3.set_ylabel('Test Accuracy')\nax3.set_title('Final Test Accuracies')\nax3.set_ylim(0, 1)\nfor i, acc in enumerate(test_accuracies):\n    ax3.text(i, acc + 0.01, f'{acc:.3f}', ha='center', va='bottom')\n\n# Learning rate comparison at different iterations\nsample_iterations = [0, 50, 100, 150, 200, 250, 299]\nexp_lrs = [LearningRateScheduler.exponential_decay(0.15, i) for i in sample_iterations]\nstep_lrs = [LearningRateScheduler.step_decay(0.15, i) for i in sample_iterations]\ncos_lrs = [LearningRateScheduler.cosine_annealing(0.15, i, 300) for i in sample_iterations]\n\nax4.plot(sample_iterations, exp_lrs, 'bo-', label='Exponential', linewidth=2)\nax4.plot(sample_iterations, step_lrs, 'ro-', label='Step', linewidth=2)\nax4.plot(sample_iterations, cos_lrs, 'go-', label='Cosine', linewidth=2)\nax4.set_xlabel('Iteration')\nax4.set_ylabel('Learning Rate')\nax4.set_title('Learning Rate Values at Key Points')\nax4.legend()\nax4.grid(True, alpha=0.3)\n\nplt.tight_layout()\nplt.show()",
   "metadata": {},
   "execution_count": null,
   "outputs": []
  },
  {
   "cell_type": "code",
   "source": "# Compare different learning rate schedules\nprint(\"Training with different learning rate schedules...\\n\")\n\n# 1. Exponential decay\nprint(\"=== Exponential Decay ===\")\nW1_exp, b1_exp, W2_exp, b2_exp, acc_hist_exp, lr_hist_exp = gradient_descent_with_scheduler(\n    X_train, Y_train, 0.15, 300, 'exponential'\n)\n\nprint(\"\\n=== Step Decay ===\")\nW1_step, b1_step, W2_step, b2_step, acc_hist_step, lr_hist_step = gradient_descent_with_scheduler(\n    X_train, Y_train, 0.15, 300, 'step'\n)\n\nprint(\"\\n=== Cosine Annealing ===\")\nW1_cos, b1_cos, W2_cos, b2_cos, acc_hist_cos, lr_hist_cos = gradient_descent_with_scheduler(\n    X_train, Y_train, 0.15, 300, 'cosine'\n)",
   "metadata": {},
   "execution_count": null,
   "outputs": []
  },
  {
   "cell_type": "code",
   "source": "class LearningRateScheduler:\n    \"\"\"Different learning rate scheduling strategies\"\"\"\n    \n    @staticmethod\n    def exponential_decay(initial_lr, iteration, decay_rate=0.95, decay_steps=100):\n        \"\"\"Exponential decay: lr = initial_lr * decay_rate^(iteration/decay_steps)\"\"\"\n        return initial_lr * (decay_rate ** (iteration / decay_steps))\n    \n    @staticmethod\n    def step_decay(initial_lr, iteration, drop_rate=0.5, epochs_drop=50):\n        \"\"\"Step decay: reduce lr by drop_rate every epochs_drop iterations\"\"\"\n        return initial_lr * (drop_rate ** (iteration // epochs_drop))\n    \n    @staticmethod\n    def cosine_annealing(initial_lr, iteration, max_iterations):\n        \"\"\"Cosine annealing: lr follows cosine curve\"\"\"\n        return initial_lr * 0.5 * (1 + np.cos(np.pi * iteration / max_iterations))\n    \n    @staticmethod\n    def adaptive_decay(initial_lr, iteration, accuracy_history, patience=10, factor=0.8):\n        \"\"\"Adaptive decay: reduce lr when accuracy plateaus\"\"\"\n        if len(accuracy_history) < patience + 1:\n            return initial_lr\n        \n        # Check if accuracy has improved in last 'patience' iterations\n        recent_best = max(accuracy_history[-patience:])\n        previous_best = max(accuracy_history[:-patience]) if len(accuracy_history) > patience else 0\n        \n        if recent_best <= previous_best + 0.001:  # No significant improvement\n            return initial_lr * factor\n        return initial_lr\n\ndef gradient_descent_with_scheduler(X, Y, initial_alpha, iterations, scheduler_type='exponential'):\n    \"\"\"Enhanced gradient descent with learning rate scheduling\"\"\"\n    W1, b1, W2, b2 = init_params()\n    \n    # Track metrics\n    accuracy_history = []\n    lr_history = []\n    \n    for i in range(iterations):\n        # Calculate current learning rate\n        if scheduler_type == 'exponential':\n            alpha = LearningRateScheduler.exponential_decay(initial_alpha, i)\n        elif scheduler_type == 'step':\n            alpha = LearningRateScheduler.step_decay(initial_alpha, i)\n        elif scheduler_type == 'cosine':\n            alpha = LearningRateScheduler.cosine_annealing(initial_alpha, i, iterations)\n        elif scheduler_type == 'adaptive':\n            alpha = LearningRateScheduler.adaptive_decay(initial_alpha, i, accuracy_history)\n        else:\n            alpha = initial_alpha  # No scheduling\n        \n        # Forward and backward propagation\n        Z1, A1, Z2, A2 = forward_prop(W1, b1, W2, b2, X)\n        dW1, db1, dW2, db2 = backward_prop(Z1, A1, Z2, A2, W1, W2, X, Y)\n        W1, b1, W2, b2 = update_params(W1, b1, W2, b2, dW1, db1, dW2, db2, alpha)\n        \n        # Track metrics\n        if i % 10 == 0:\n            predictions = get_predictions(A2)\n            accuracy = get_accuracy(predictions, Y)\n            accuracy_history.append(accuracy)\n            lr_history.append(alpha)\n            print(f\"Iteration {i}: Accuracy = {accuracy:.4f}, LR = {alpha:.6f}\")\n    \n    return W1, b1, W2, b2, accuracy_history, lr_history",
   "metadata": {},
   "execution_count": null,
   "outputs": []
  },
  {
   "cell_type": "markdown",
   "source": "## Learning Rate Scheduling",
   "metadata": {}
  },
  {
   "cell_type": "code",
   "execution_count": null,
   "metadata": {},
   "outputs": [],
   "source": [
    "# Example: Load a previously saved model and test it\n",
    "print(\"Loading saved model and testing...\")\n",
    "W1_loaded, b1_loaded, W2_loaded, b2_loaded = load_model(\"trained_mnist_model.pkl\")\n",
    "\n",
    "if W1_loaded is not None:\n",
    "    # Test the loaded model\n",
    "    loaded_predictions = make_predictions(X_test, W1_loaded, b1_loaded, W2_loaded, b2_loaded)\n",
    "    loaded_accuracy = get_accuracy(loaded_predictions, Y_test)\n",
    "    print(f\"Loaded model test accuracy: {loaded_accuracy:.4f}\")\n",
    "    \n",
    "    # Compare with original model\n",
    "    original_predictions = make_predictions(X_test, W1, b1, W2, b2)\n",
    "    original_accuracy = get_accuracy(original_predictions, Y_test)\n",
    "    print(f\"Original model test accuracy: {original_accuracy:.4f}\")\n",
    "    print(f\"Models match: {np.allclose(loaded_predictions, original_predictions)}\")\n",
    "else:\n",
    "    print(\"Failed to load model\")"
   ]
  },
  {
   "cell_type": "code",
   "execution_count": null,
   "metadata": {},
   "outputs": [],
   "source": [
    "import pickle\n",
    "import os\n",
    "\n",
    "def save_model(W1, b1, W2, b2, filename=\"mnist_model.pkl\"):\n",
    "    \"\"\"Save trained model parameters to file\"\"\"\n",
    "    model_params = {\n",
    "        'W1': W1,\n",
    "        'b1': b1, \n",
    "        'W2': W2,\n",
    "        'b2': b2\n",
    "    }\n",
    "    \n",
    "    # Create models directory if it doesn't exist\n",
    "    os.makedirs('models', exist_ok=True)\n",
    "    filepath = os.path.join('models', filename)\n",
    "    \n",
    "    with open(filepath, 'wb') as f:\n",
    "        pickle.dump(model_params, f)\n",
    "    \n",
    "    print(f\"Model saved to {filepath}\")\n",
    "    return filepath\n",
    "\n",
    "def load_model(filename=\"mnist_model.pkl\"):\n",
    "    \"\"\"Load trained model parameters from file\"\"\"\n",
    "    filepath = os.path.join('models', filename)\n",
    "    \n",
    "    if not os.path.exists(filepath):\n",
    "        print(f\"Model file {filepath} not found!\")\n",
    "        return None, None, None, None\n",
    "    \n",
    "    with open(filepath, 'rb') as f:\n",
    "        model_params = pickle.load(f)\n",
    "    \n",
    "    print(f\"Model loaded from {filepath}\")\n",
    "    return model_params['W1'], model_params['b1'], model_params['W2'], model_params['b2']\n",
    "\n",
    "def get_model_info(filename=\"mnist_model.pkl\"):\n",
    "    \"\"\"Get information about saved model\"\"\"\n",
    "    filepath = os.path.join('models', filename)\n",
    "    \n",
    "    if not os.path.exists(filepath):\n",
    "        print(f\"Model file {filepath} not found!\")\n",
    "        return\n",
    "    \n",
    "    # Get file size\n",
    "    file_size = os.path.getsize(filepath) / 1024  # KB\n",
    "    \n",
    "    # Load and check parameters\n",
    "    W1, b1, W2, b2 = load_model(filename)\n",
    "    if W1 is not None:\n",
    "        print(f\"Model: {filename}\")\n",
    "        print(f\"File size: {file_size:.2f} KB\")\n",
    "        print(f\"Architecture: {W1.shape[1]} -> {W1.shape[0]} -> {W2.shape[0]}\")\n",
    "        print(f\"Total parameters: {W1.size + b1.size + W2.size + b2.size}\")\n",
    "\n",
    "# Save the current trained model\n",
    "save_model(W1, b1, W2, b2, \"trained_mnist_model.pkl\")\n",
    "get_model_info(\"trained_mnist_model.pkl\")"
   ]
  },
  {
   "cell_type": "markdown",
   "metadata": {},
   "source": [
    "## Model Saving and Loading"
   ]
  }
 ],
 "metadata": {
  "kernelspec": {
   "display_name": "base",
   "language": "python",
   "name": "python3"
  },
  "language_info": {
   "codemirror_mode": {
    "name": "ipython",
    "version": 3
   },
   "file_extension": ".py",
   "mimetype": "text/x-python",
   "name": "python",
   "nbconvert_exporter": "python",
   "pygments_lexer": "ipython3",
   "version": "3.12.3"
  }
 },
 "nbformat": 4,
 "nbformat_minor": 4
}