{
 "cells": [
  {
   "cell_type": "markdown",
   "metadata": {},
   "source": [
    "# MNIST Neural Network\n",
    "A simple neural network implementation for MNIST digit recognition"
   ]
  },
  {
   "cell_type": "code",
   "execution_count": 4,
   "metadata": {},
   "outputs": [
    {
     "name": "stdout",
     "output_type": "stream",
     "text": [
      "n\n"
     ]
    }
   ],
   "source": [
    "print(\"n\")"
   ]
  },
  {
   "cell_type": "code",
   "execution_count": 5,
   "metadata": {},
   "outputs": [],
   "source": [
    "import numpy as np\n",
    "import matplotlib.pyplot as plt\n",
    "from urllib.request import urlretrieve\n",
    "import gzip\n",
    "import os\n",
    "\n",
    "np.random.seed(42)"
   ]
  },
  {
   "cell_type": "code",
   "execution_count": 6,
   "metadata": {},
   "outputs": [
    {
     "name": "stdout",
     "output_type": "stream",
     "text": [
      "Requirement already satisfied: scikit-learn in c:\\users\\dhana\\anaconda3\\lib\\site-packages (1.5.1)\n",
      "Requirement already satisfied: numpy>=1.19.5 in c:\\users\\dhana\\anaconda3\\lib\\site-packages (from scikit-learn) (1.26.4)\n",
      "Requirement already satisfied: scipy>=1.6.0 in c:\\users\\dhana\\anaconda3\\lib\\site-packages (from scikit-learn) (1.13.1)\n",
      "Requirement already satisfied: joblib>=1.2.0 in c:\\users\\dhana\\anaconda3\\lib\\site-packages (from scikit-learn) (1.4.2)\n",
      "Requirement already satisfied: threadpoolctl>=3.1.0 in c:\\users\\dhana\\anaconda3\\lib\\site-packages (from scikit-learn) (3.5.0)\n"
     ]
    },
    {
     "name": "stderr",
     "output_type": "stream",
     "text": [
      "\n",
      "[notice] A new release of pip is available: 25.0.1 -> 25.2\n",
      "[notice] To update, run: python.exe -m pip install --upgrade pip\n"
     ]
    }
   ],
   "source": [
    "!pip install scikit-learn"
   ]
  },
  {
   "cell_type": "markdown",
   "metadata": {},
   "source": [
    "## Download and Load MNIST Dataset"
   ]
  },
  {
   "cell_type": "code",
   "execution_count": 12,
   "metadata": {},
   "outputs": [
    {
     "name": "stdout",
     "output_type": "stream",
     "text": [
      "Downloading MNIST dataset from Kaggle...\n",
      "Dataset URL: https://www.kaggle.com/datasets/hojjatk/mnist-dataset\n",
      "Download complete!\n",
      "Training images shape: (60000, 28, 28)\n",
      "Training labels shape: (60000,)\n",
      "Test images shape: (10000, 28, 28)\n",
      "Test labels shape: (10000,)\n",
      "Download complete!\n",
      "Training images shape: (60000, 28, 28)\n",
      "Training labels shape: (60000,)\n",
      "Test images shape: (10000, 28, 28)\n",
      "Test labels shape: (10000,)\n"
     ]
    }
   ],
   "source": [
    "import kaggle\n",
    "from kaggle.api.kaggle_api_extended import KaggleApi\n",
    "import zipfile\n",
    "\n",
    "def download_mnist_kaggle():\n",
    "    \"\"\"Download MNIST dataset from Kaggle\"\"\"\n",
    "    try:\n",
    "        # Initialize Kaggle API\n",
    "        api = KaggleApi()\n",
    "        api.authenticate()\n",
    "        \n",
    "        # Create mnist_data directory\n",
    "        if not os.path.exists('mnist_data'):\n",
    "            os.makedirs('mnist_data')\n",
    "            \n",
    "        # Download the dataset\n",
    "        print('Downloading MNIST dataset from Kaggle...')\n",
    "        api.dataset_download_files('hojjatk/mnist-dataset', path='mnist_data', unzip=True)\n",
    "        print('Download complete!')\n",
    "        \n",
    "        return True\n",
    "    except Exception as e:\n",
    "        print(f\"Kaggle download failed: {e}\")\n",
    "        return False\n",
    "\n",
    "def load_mnist_images_uncompressed(filename):\n",
    "    \"\"\"Load MNIST images from uncompressed file\"\"\"\n",
    "    with open(filename, 'rb') as f:\n",
    "        data = f.read()\n",
    "        # Skip header (16 bytes)\n",
    "        images = np.frombuffer(data[16:], dtype=np.uint8)\n",
    "        images = images.reshape(-1, 28, 28)\n",
    "    return images\n",
    "\n",
    "def load_mnist_labels_uncompressed(filename):\n",
    "    \"\"\"Load MNIST labels from uncompressed file\"\"\"\n",
    "    with open(filename, 'rb') as f:\n",
    "        data = f.read()\n",
    "        # Skip header (8 bytes)\n",
    "        labels = np.frombuffer(data[8:], dtype=np.uint8)\n",
    "    return labels\n",
    "\n",
    "# Try downloading from Kaggle\n",
    "if download_mnist_kaggle():\n",
    "    # Check which files exist and use the correct ones\n",
    "    train_images_file = None\n",
    "    train_labels_file = None\n",
    "    test_images_file = None\n",
    "    test_labels_file = None\n",
    "    \n",
    "    # Check for different file formats\n",
    "    possible_train_images = [\n",
    "        'mnist_data/train-images.idx3-ubyte',\n",
    "        'mnist_data/train-images-idx3-ubyte/train-images-idx3-ubyte'\n",
    "    ]\n",
    "    possible_train_labels = [\n",
    "        'mnist_data/train-labels.idx1-ubyte', \n",
    "        'mnist_data/train-labels-idx1-ubyte/train-labels-idx1-ubyte'\n",
    "    ]\n",
    "    possible_test_images = [\n",
    "        'mnist_data/t10k-images.idx3-ubyte',\n",
    "        'mnist_data/t10k-images-idx3-ubyte/t10k-images-idx3-ubyte'\n",
    "    ]\n",
    "    possible_test_labels = [\n",
    "        'mnist_data/t10k-labels.idx1-ubyte',\n",
    "        'mnist_data/t10k-labels-idx1-ubyte/t10k-labels-idx1-ubyte'\n",
    "    ]\n",
    "    \n",
    "    # Find existing files\n",
    "    for f in possible_train_images:\n",
    "        if os.path.exists(f):\n",
    "            train_images_file = f\n",
    "            break\n",
    "            \n",
    "    for f in possible_train_labels:\n",
    "        if os.path.exists(f):\n",
    "            train_labels_file = f\n",
    "            break\n",
    "            \n",
    "    for f in possible_test_images:\n",
    "        if os.path.exists(f):\n",
    "            test_images_file = f\n",
    "            break\n",
    "            \n",
    "    for f in possible_test_labels:\n",
    "        if os.path.exists(f):\n",
    "            test_labels_file = f\n",
    "            break\n",
    "    \n",
    "    if all([train_images_file, train_labels_file, test_images_file, test_labels_file]):\n",
    "        # Load training data\n",
    "        X_train_raw = load_mnist_images_uncompressed(train_images_file)\n",
    "        Y_train_raw = load_mnist_labels_uncompressed(train_labels_file)\n",
    "        \n",
    "        # Load test data  \n",
    "        X_test_raw = load_mnist_images_uncompressed(test_images_file)\n",
    "        Y_test_raw = load_mnist_labels_uncompressed(test_labels_file)\n",
    "        \n",
    "        print(f'Training images shape: {X_train_raw.shape}')\n",
    "        print(f'Training labels shape: {Y_train_raw.shape}')\n",
    "        print(f'Test images shape: {X_test_raw.shape}')\n",
    "        print(f'Test labels shape: {Y_test_raw.shape}')\n",
    "    else:\n",
    "        print(\"Could not find all required MNIST files\")\n",
    "        print(f\"Found: train_images={train_images_file}, train_labels={train_labels_file}\")\n",
    "        print(f\"Found: test_images={test_images_file}, test_labels={test_labels_file}\")\n",
    "else:\n",
    "    print(\"Please download MNIST files manually and place them in mnist_data folder\")"
   ]
  },
  {
   "cell_type": "code",
   "execution_count": null,
   "metadata": {},
   "outputs": [],
   "source": "# Install required packages\n!pip install kaggle python-dotenv\n\nimport os\nimport json\nfrom dotenv import load_dotenv\n\n# Load environment variables from .env file\nload_dotenv()\n\n# Get Kaggle credentials from environment variables\nkaggle_username = os.getenv('KAGGLE_USERNAME')\nkaggle_key = os.getenv('KAGGLE_KEY')\n\nif not kaggle_username or not kaggle_key:\n    print(\"Please set KAGGLE_USERNAME and KAGGLE_KEY environment variables\")\n    print(\"You can create a .env file with:\")\n    print(\"KAGGLE_USERNAME=your_username\")\n    print(\"KAGGLE_KEY=your_api_key\")\nelse:\n    # Set up Kaggle API credentials\n    kaggle_json = {\n        \"username\": kaggle_username,\n        \"key\": kaggle_key\n    }\n    \n    # Create .kaggle directory\n    kaggle_dir = os.path.expanduser('~/.kaggle')\n    os.makedirs(kaggle_dir, exist_ok=True)\n    \n    # Write credentials file\n    with open(os.path.join(kaggle_dir, 'kaggle.json'), 'w') as f:\n        json.dump(kaggle_json, f)\n    \n    # Set proper permissions\n    os.chmod(os.path.join(kaggle_dir, 'kaggle.json'), 0o600)\n    \n    print('Kaggle credentials configured successfully from environment variables.')"
  },
  {
   "cell_type": "markdown",
   "metadata": {},
   "source": [
    "### Manual MNIST Data Download Instructions\n",
    "\n",
    "If you encounter a 404 error or download failure, please manually download the following files from the official MNIST site:\n",
    "\n",
    "- [train-images-idx3-ubyte.gz](http://yann.lecun.com/exdb/mnist/train-images-idx3-ubyte.gz)\n",
    "- [train-labels-idx1-ubyte.gz](http://yann.lecun.com/exdb/mnist/train-labels-idx1-ubyte.gz)\n",
    "- [t10k-images-idx3-ubyte.gz](http://yann.lecun.com/exdb/mnist/t10k-images-idx3-ubyte.gz)\n",
    "- [t10k-labels-idx1-ubyte.gz](http://yann.lecun.com/exdb/mnist/t10k-labels-idx1-ubyte.gz)\n",
    "\n",
    "Place all four files in the `mnist_data` folder in your project directory.\n",
    "\n",
    "After placing the files, re-run the notebook cells to continue."
   ]
  },
  {
   "cell_type": "markdown",
   "metadata": {},
   "source": [
    "## Data Preprocessing"
   ]
  },
  {
   "cell_type": "code",
   "execution_count": 14,
   "metadata": {},
   "outputs": [
    {
     "name": "stdout",
     "output_type": "stream",
     "text": [
      "Preprocessed training data shape: (784, 60000)\n",
      "Preprocessed training labels shape: (10, 60000)\n"
     ]
    },
    {
     "data": {
      "image/png": "[encoded data removed]",
      "text/plain": [
       "<Figure size 1000x400 with 10 Axes>"
      ]
     },
     "metadata": {},
     "output_type": "display_data"
    }
   ],
   "source": [
    "def preprocess_data(X, Y):\n",
    "    \"\"\"Preprocess the data for neural network training\"\"\"\n",
    "    # Reshape images to vectors and normalize\n",
    "    X = X.reshape(X.shape[0], -1).T  # Shape: (784, num_samples)\n",
    "    X = X / 255.0  # Normalize to [0, 1]\n",
    "    \n",
    "    # One-hot encode labels\n",
    "    Y_onehot = np.zeros((10, Y.shape[0]))\n",
    "    for i, label in enumerate(Y):\n",
    "        Y_onehot[label, i] = 1\n",
    "    \n",
    "    return X, Y_onehot\n",
    "\n",
    "# Preprocess data\n",
    "X_train, Y_train_onehot = preprocess_data(X_train_raw, Y_train_raw)\n",
    "X_test, Y_test_onehot = preprocess_data(X_test_raw, Y_test_raw)\n",
    "Y_train = Y_train_raw\n",
    "Y_test = Y_test_raw\n",
    "\n",
    "print(f'Preprocessed training data shape: {X_train.shape}')\n",
    "print(f'Preprocessed training labels shape: {Y_train_onehot.shape}')\n",
    "\n",
    "# Display some sample images\n",
    "fig, axes = plt.subplots(2, 5, figsize=(10, 4))\n",
    "for i, ax in enumerate(axes.flat):\n",
    "    ax.imshow(X_train_raw[i], cmap='gray')\n",
    "    ax.set_title(f'Label: {Y_train_raw[i]}')\n",
    "    ax.axis('off')\n",
    "plt.tight_layout()\n",
    "plt.show()"
   ]
  },
  {
   "cell_type": "markdown",
   "metadata": {},
   "source": [
    "## Neural Network Functions"
   ]
  },
  {
   "cell_type": "code",
   "execution_count": 15,
   "metadata": {},
   "outputs": [],
   "source": [
    "def init_params():\n",
    "    \"\"\"Initialize neural network parameters\"\"\"\n",
    "    W1 = np.random.rand(10, 784) - 0.5\n",
    "    b1 = np.random.rand(10, 1) - 0.5\n",
    "    W2 = np.random.rand(10, 10) - 0.5\n",
    "    b2 = np.random.rand(10, 1) - 0.5\n",
    "    return W1, b1, W2, b2\n",
    "\n",
    "def ReLU(Z):\n",
    "    \"\"\"ReLU activation function\"\"\"\n",
    "    return np.maximum(Z, 0)\n",
    "\n",
    "def softmax(Z):\n",
    "    \"\"\"Softmax activation function\"\"\"\n",
    "    A = np.exp(Z - np.max(Z, axis=0, keepdims=True))\n",
    "    return A / np.sum(A, axis=0, keepdims=True)\n",
    "\n",
    "def forward_prop(W1, b1, W2, b2, X):\n",
    "    \"\"\"Forward propagation\"\"\"\n",
    "    Z1 = W1.dot(X) + b1\n",
    "    A1 = ReLU(Z1)\n",
    "    Z2 = W2.dot(A1) + b2\n",
    "    A2 = softmax(Z2)\n",
    "    return Z1, A1, Z2, A2\n",
    "\n",
    "def ReLU_deriv(Z):\n",
    "    \"\"\"Derivative of ReLU function\"\"\"\n",
    "    return Z > 0\n",
    "\n",
    "def one_hot(Y):\n",
    "    \"\"\"Convert labels to one-hot encoding\"\"\"\n",
    "    one_hot_Y = np.zeros((Y.size, Y.max() + 1))\n",
    "    one_hot_Y[np.arange(Y.size), Y] = 1\n",
    "    one_hot_Y = one_hot_Y.T\n",
    "    return one_hot_Y\n",
    "\n",
    "def backward_prop(Z1, A1, Z2, A2, W1, W2, X, Y):\n",
    "    \"\"\"Backward propagation\"\"\"\n",
    "    m = Y.size\n",
    "    one_hot_Y = one_hot(Y)\n",
    "    dZ2 = A2 - one_hot_Y\n",
    "    dW2 = 1 / m * dZ2.dot(A1.T)\n",
    "    db2 = 1 / m * np.sum(dZ2)\n",
    "    dZ1 = W2.T.dot(dZ2) * ReLU_deriv(Z1)\n",
    "    dW1 = 1 / m * dZ1.dot(X.T)\n",
    "    db1 = 1 / m * np.sum(dZ1)\n",
    "    return dW1, db1, dW2, db2\n",
    "\n",
    "def update_params(W1, b1, W2, b2, dW1, db1, dW2, db2, alpha):\n",
    "    \"\"\"Update parameters using gradient descent\"\"\"\n",
    "    W1 = W1 - alpha * dW1\n",
    "    b1 = b1 - alpha * db1    \n",
    "    W2 = W2 - alpha * dW2  \n",
    "    b2 = b2 - alpha * db2    \n",
    "    return W1, b1, W2, b2"
   ]
  },
  {
   "cell_type": "markdown",
   "metadata": {},
   "source": [
    "## Training Functions"
   ]
  },
  {
   "cell_type": "code",
   "execution_count": 16,
   "metadata": {},
   "outputs": [],
   "source": [
    "def get_predictions(A2):\n",
    "    \"\"\"Get predictions from output layer\"\"\"\n",
    "    return np.argmax(A2, 0)\n",
    "\n",
    "def get_accuracy(predictions, Y):\n",
    "    \"\"\"Calculate accuracy\"\"\"\n",
    "    return np.sum(predictions == Y) / Y.size\n",
    "\n",
    "def gradient_descent(X, Y, alpha, iterations):\n",
    "    \"\"\"Train the neural network using gradient descent\"\"\"\n",
    "    W1, b1, W2, b2 = init_params()\n",
    "    \n",
    "    for i in range(iterations):\n",
    "        Z1, A1, Z2, A2 = forward_prop(W1, b1, W2, b2, X)\n",
    "        dW1, db1, dW2, db2 = backward_prop(Z1, A1, Z2, A2, W1, W2, X, Y)\n",
    "        W1, b1, W2, b2 = update_params(W1, b1, W2, b2, dW1, db1, dW2, db2, alpha)\n",
    "        \n",
    "        if i % 10 == 0:\n",
    "            predictions = get_predictions(A2)\n",
    "            accuracy = get_accuracy(predictions, Y)\n",
    "            print(f\"Iteration {i}: Accuracy = {accuracy:.4f}\")\n",
    "    \n",
    "    return W1, b1, W2, b2"
   ]
  },
  {
   "cell_type": "markdown",
   "metadata": {},
   "source": [
    "## Train the Neural Network"
   ]
  },
  {
   "cell_type": "code",
   "execution_count": 17,
   "metadata": {},
   "outputs": [
    {
     "name": "stdout",
     "output_type": "stream",
     "text": [
      "Training neural network...\n",
      "Iteration 0: Accuracy = 0.1575\n",
      "Iteration 10: Accuracy = 0.1920\n",
      "Iteration 20: Accuracy = 0.2522\n",
      "Iteration 30: Accuracy = 0.3070\n",
      "Iteration 40: Accuracy = 0.3558\n",
      "Iteration 50: Accuracy = 0.3988\n",
      "Iteration 60: Accuracy = 0.4389\n",
      "Iteration 70: Accuracy = 0.4781\n",
      "Iteration 80: Accuracy = 0.5150\n",
      "Iteration 90: Accuracy = 0.5472\n",
      "Iteration 100: Accuracy = 0.5754\n",
      "Iteration 110: Accuracy = 0.5996\n",
      "Iteration 120: Accuracy = 0.6202\n",
      "Iteration 130: Accuracy = 0.6401\n",
      "Iteration 140: Accuracy = 0.6564\n",
      "Iteration 150: Accuracy = 0.6716\n",
      "Iteration 160: Accuracy = 0.6833\n",
      "Iteration 170: Accuracy = 0.6935\n",
      "Iteration 180: Accuracy = 0.7034\n",
      "Iteration 190: Accuracy = 0.7121\n",
      "Iteration 200: Accuracy = 0.7204\n",
      "Iteration 210: Accuracy = 0.7277\n",
      "Iteration 220: Accuracy = 0.7343\n",
      "Iteration 230: Accuracy = 0.7409\n",
      "Iteration 240: Accuracy = 0.7466\n",
      "Iteration 250: Accuracy = 0.7520\n",
      "Iteration 260: Accuracy = 0.7562\n",
      "Iteration 270: Accuracy = 0.7606\n",
      "Iteration 280: Accuracy = 0.7653\n",
      "Iteration 290: Accuracy = 0.7697\n",
      "Iteration 300: Accuracy = 0.7739\n",
      "Iteration 310: Accuracy = 0.7775\n",
      "Iteration 320: Accuracy = 0.7814\n",
      "Iteration 330: Accuracy = 0.7850\n",
      "Iteration 340: Accuracy = 0.7885\n",
      "Iteration 350: Accuracy = 0.7921\n",
      "Iteration 360: Accuracy = 0.7942\n",
      "Iteration 370: Accuracy = 0.7974\n",
      "Iteration 380: Accuracy = 0.8003\n",
      "Iteration 390: Accuracy = 0.8031\n",
      "Iteration 400: Accuracy = 0.8060\n",
      "Iteration 410: Accuracy = 0.8081\n",
      "Iteration 420: Accuracy = 0.8108\n",
      "Iteration 430: Accuracy = 0.8134\n",
      "Iteration 440: Accuracy = 0.8157\n",
      "Iteration 450: Accuracy = 0.8178\n",
      "Iteration 460: Accuracy = 0.8199\n",
      "Iteration 470: Accuracy = 0.8220\n",
      "Iteration 480: Accuracy = 0.8241\n",
      "Iteration 490: Accuracy = 0.8260\n",
      "Training complete!\n"
     ]
    }
   ],
   "source": [
    "# Train the model\n",
    "print(\"Training neural network...\")\n",
    "W1, b1, W2, b2 = gradient_descent(X_train, Y_train, 0.10, 500)\n",
    "print(\"Training complete!\")"
   ]
  },
  {
   "cell_type": "markdown",
   "metadata": {},
   "source": [
    "## Prediction and Visualization Functions"
   ]
  },
  {
   "cell_type": "code",
   "execution_count": 18,
   "metadata": {},
   "outputs": [
    {
     "name": "stdout",
     "output_type": "stream",
     "text": [
      "Testing predictions on training samples:\n",
      "Prediction: 3\n",
      "Label: 5\n"
     ]
    },
    {
     "data": {
      "image/png": "[encoded data removed]",
      "text/plain": [
       "<Figure size 640x480 with 1 Axes>"
      ]
     },
     "metadata": {},
     "output_type": "display_data"
    },
    {
     "name": "stdout",
     "output_type": "stream",
     "text": [
      "Prediction: 0\n",
      "Label: 0\n"
     ]
    },
    {
     "data": {
      "image/png": "[encoded data removed]",
      "text/plain": [
       "<Figure size 640x480 with 1 Axes>"
      ]
     },
     "metadata": {},
     "output_type": "display_data"
    },
    {
     "name": "stdout",
     "output_type": "stream",
     "text": [
      "Prediction: 4\n",
      "Label: 4\n"
     ]
    },
    {
     "data": {
      "image/png": "[encoded data removed]",
      "text/plain": [
       "<Figure size 640x480 with 1 Axes>"
      ]
     },
     "metadata": {},
     "output_type": "display_data"
    },
    {
     "name": "stdout",
     "output_type": "stream",
     "text": [
      "Prediction: 1\n",
      "Label: 1\n"
     ]
    },
    {
     "data": {
      "image/png": "[encoded data removed]",
      "text/plain": [
       "<Figure size 640x480 with 1 Axes>"
      ]
     },
     "metadata": {},
     "output_type": "display_data"
    }
   ],
   "source": [
    "def make_predictions(X, W1, b1, W2, b2):\n",
    "    \"\"\"Make predictions on new data\"\"\"\n",
    "    _, _, _, A2 = forward_prop(W1, b1, W2, b2, X)\n",
    "    predictions = get_predictions(A2)\n",
    "    return predictions\n",
    "\n",
    "def test_prediction(index, W1, b1, W2, b2):\n",
    "    \"\"\"Test prediction on a single image and display it\"\"\"\n",
    "    current_image = X_train[:, index, None]\n",
    "    prediction = make_predictions(X_train[:, index, None], W1, b1, W2, b2)\n",
    "    label = Y_train[index]\n",
    "    \n",
    "    print(f\"Prediction: {prediction[0]}\")\n",
    "    print(f\"Label: {label}\")\n",
    "    \n",
    "    current_image = current_image.reshape((28, 28)) * 255\n",
    "    plt.gray()\n",
    "    plt.imshow(current_image, interpolation='nearest')\n",
    "    plt.title(f'Prediction: {prediction[0]}, Actual: {label}')\n",
    "    plt.show()\n",
    "\n",
    "# Test predictions on some samples\n",
    "print(\"Testing predictions on training samples:\")\n",
    "test_prediction(0, W1, b1, W2, b2)\n",
    "test_prediction(1, W1, b1, W2, b2)\n",
    "test_prediction(2, W1, b1, W2, b2)\n",
    "test_prediction(3, W1, b1, W2, b2)"
   ]
  },
  {
   "cell_type": "markdown",
   "metadata": {},
   "source": [
    "## Evaluate on Test Set"
   ]
  },
  {
   "cell_type": "code",
   "execution_count": 20,
   "metadata": {},
   "outputs": [
    {
     "name": "stdout",
     "output_type": "stream",
     "text": [
      "Test Accuracy: 0.8340\n"
     ]
    },
    {
     "data": {
      "image/png": "[encoded data removed]",
      "text/plain": [
       "<Figure size 1200x600 with 10 Axes>"
      ]
     },
     "metadata": {},
     "output_type": "display_data"
    }
   ],
   "source": [
    "# Evaluate on test set\n",
    "test_predictions = make_predictions(X_test, W1, b1, W2, b2)\n",
    "test_accuracy = get_accuracy(test_predictions, Y_test)\n",
    "print(f\"Test Accuracy: {test_accuracy:.4f}\")\n",
    "\n",
    "# Show some test predictions\n",
    "fig, axes = plt.subplots(2, 5, figsize=(12, 6))\n",
    "for i, ax in enumerate(axes.flat):\n",
    "    idx = np.random.randint(0, X_test.shape[1])\n",
    "    image = X_test[:, idx].reshape(28, 28)\n",
    "    prediction = make_predictions(X_test[:, idx, None], W1, b1, W2, b2)[0]\n",
    "    actual = Y_test[idx]\n",
    "    \n",
    "    ax.imshow(image, cmap='gray')\n",
    "    color = 'green' if prediction == actual else 'red'\n",
    "    ax.set_title(f'Pred: {prediction}, Act: {actual}', color=color)\n",
    "    ax.axis('off')\n",
    "\n",
    "plt.tight_layout()\n",
    "plt.show()"
   ]
  }
 ],
 "metadata": {
  "kernelspec": {
   "display_name": "Python 3 (ipykernel)",
   "language": "python",
   "name": "python3"
  },
  "language_info": {
   "codemirror_mode": {
    "name": "ipython",
    "version": 3
   },
   "file_extension": ".py",
   "mimetype": "text/x-python",
   "name": "python",
   "nbconvert_exporter": "python",
   "pygments_lexer": "ipython3",
   "version": "3.12.0"
  }
 },
 "nbformat": 4,
 "nbformat_minor": 4
}